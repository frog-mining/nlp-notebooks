{
 "cells": [
  {
   "cell_type": "code",
   "execution_count": 44,
   "metadata": {},
   "outputs": [
    {
     "name": "stdout",
     "output_type": "stream",
     "text": [
      "Un drapeau irakien sur les épaules, un porte-étendard agite le blason de l’imam chiite Hussein, imprimé en lettres dorées sur fond noir. Du sommet du « restaurant turc », une tour désaffectée qui abritait autrefois un centre commercial et un restaurant panoramique, le jeune homme domine la place Tahrir, le cœur battant de la contestation à Bagdad. Dans son dos se trouvent les barricades du pont Al-Joumhouria, la voie d’accès à la zone verte, le secteur du pouvoir, confiné derrière des murs de béton et des rangées d’hommes en armes.\n",
      "\n",
      "Il n’y a pas meilleur endroit que cette carcasse de béton, laissée à l’abandon après un bombardement en 2003 et désormais couverte de banderoles de revendications, de caricatures politiques et de photos de « martyrs », pour prendre le pouls de la mobilisation.\n",
      "\n",
      "« Dégagez ! »\n",
      "\n",
      "Quelques centaines, bientôt des milliers de manifestants se massent sur la place jusqu’à la nuit tombée quand s’illuminent, au fronton de l’immeuble de dix-huit étages, d’immenses lettres fluorescentes composant les mots « Dégagez ! » et « montagne d’Uhud ». C’est ainsi, en référence à l’une des batailles du prophète Mahomet, que les occupants de ce bâtiment stratégique l’ont rebaptisé depuis qu’ils en ont pris le contrôle, le 24 octobre au soir, à la veille d’une manifestation contre le pouvoir. Ils s’y sont installés avant que ne puissent le faire les forces antiémeute ou d’éventuels snipers, responsables de tant de morts lors de la première semaine de mobilisation, début octobre.\n",
      "\n",
      "Les occupants du « restaurant turc », un immeuble abandonné de dix-huit étages surplombant la place Tahrir, le 15 novembre. LAURENT VAN DER STOCKT POUR « LE MONDE »\n",
      "\n",
      "Depuis, la « montagne d’Uhud » est la place forte des opposants. « Ils nous attaquent parfois avec des grenades lacrymogènes et des bombes assourdissantes pour nous effrayer. On tient bon : si on perd l’immeuble, c’est la fin de la bataille », clame Hassan, un jeune diplômé de psychologie, actuellement au chômage, venu de la ville d’Hilla, dans le centre du pays, pour « faire le siège du gouvernement ».\n",
      "\n",
      "Sans la « montagne d’Uhud », il en irait de la survie de la « cité idéale » qu’ils ont façonnée à ses pieds. Devant le monument de la liberté, qui célèbre la révolution de 1958 des « officiers libres » contre la monarchie, sur le terre-plein central et dans les allées voisines de la vaste place Tahrir, coupée de la circulation, des tentes ont fleuri. « Ici, poursuit Hassan, tout est beaucoup mieux que tout ce que le gouvernement n’a jamais fait en seize ans », depuis l’invasion américaine de 2003, fatale au dictateur Saddam Hussein. Ils ont même installé l’électricité dans le « restaurant turc » et repeint ses murs.\n",
      "https://www.lemonde.fr/international/article/2019/11/27/la-place-tahrir-le-c-ur-battant-de-la-contestation-a-bagdad_6020653_3210.html\n",
      "Un drapeau irakien sur les épaules, un porte-étendard agite le blason de l’imam chiite Hussein, imprimé en lettres dorées sur fond noir. Du sommet du « restaurant turc », une tour désaffectée qui abritait autrefois un centre commercial et un restaurant panoramique, le jeune homme domine la place Tahrir, le cœur battant de la contestation à Bagdad. Dans son dos se trouvent les barricades du pont Al-Joumhouria, la voie d’accès à la zone verte, le secteur du pouvoir, confiné derrière des murs de béton et des rangées d’hommes en armes.\n",
      "\n",
      "Il n’y a pas meilleur endroit que cette carcasse de béton, laissée à l’abandon après un bombardement en 2003 et désormais couverte de banderoles de revendications, de caricatures politiques et de photos de « martyrs », pour prendre le pouls de la mobilisation.\n",
      "\n",
      "« Dégagez ! »\n",
      "\n",
      "Quelques centaines, bientôt des milliers de manifestants se massent sur la place jusqu’à la nuit tombée quand s’illuminent, au fronton de l’immeuble de dix-huit étages, d’immenses lettres fluorescentes composant les mots « Dégagez ! » et « montagne d’Uhud ». C’est ainsi, en référence à l’une des batailles du prophète Mahomet, que les occupants de ce bâtiment stratégique l’ont rebaptisé depuis qu’ils en ont pris le contrôle, le 24 octobre au soir, à la veille d’une manifestation contre le pouvoir. Ils s’y sont installés avant que ne puissent le faire les forces antiémeute ou d’éventuels snipers, responsables de tant de morts lors de la première semaine de mobilisation, début octobre.\n",
      "\n",
      "Les occupants du « restaurant turc », un immeuble abandonné de dix-huit étages surplombant la place Tahrir, le 15 novembre. LAURENT VAN DER STOCKT POUR « LE MONDE »\n",
      "\n",
      "Depuis, la « montagne d’Uhud » est la place forte des opposants. « Ils nous attaquent parfois avec des grenades lacrymogènes et des bombes assourdissantes pour nous effrayer. On tient bon : si on perd l’immeuble, c’est la fin de la bataille », clame Hassan, un jeune diplômé de psychologie, actuellement au chômage, venu de la ville d’Hilla, dans le centre du pays, pour « faire le siège du gouvernement ».\n",
      "\n",
      "Sans la « montagne d’Uhud », il en irait de la survie de la « cité idéale » qu’ils ont façonnée à ses pieds. Devant le monument de la liberté, qui célèbre la révolution de 1958 des « officiers libres » contre la monarchie, sur le terre-plein central et dans les allées voisines de la vaste place Tahrir, coupée de la circulation, des tentes ont fleuri. « Ici, poursuit Hassan, tout est beaucoup mieux que tout ce que le gouvernement n’a jamais fait en seize ans », depuis l’invasion américaine de 2003, fatale au dictateur Saddam Hussein. Ils ont même installé l’électricité dans le « restaurant turc » et repeint ses murs.\n",
      "La place Tahrir, le cœur battant de la contestation à Bagdad\n",
      "https://img.lemde.fr/2019/11/26/91/0/3800/1900/1440/720/60/0/4ad57f8_B7CXfiJyHg2BU-m-Kef7o2as.JPG\n",
      "https://img.lemde.fr/2019/11/26/91/0/3800/1900/1440/720/60/0/4ad57f8_B7CXfiJyHg2BU-m-Kef7o2as.JPG\n"
     ]
    },
    {
     "name": "stdout",
     "output_type": "stream",
     "text": [
      "['https://img.lemde.fr/2019/11/26/0/745/6384/4256/180/0/95/0/697ac60_s7KraX3cjkoiK1ozQR-ee0bh.jpg', 'https://www.lemonde.fr/bucket/f0bbc7f7692effbf35a3e23e5689d301aeb653f5/img/capping/capping-mobile.svg', 'https://img.lemde.fr/2014/09/05/0/0/750/500/180/0/95/0/ill_4482808_5e0c_tribes_of_the_city2.jpg', 'https://img.lemde.fr/2019/11/26/0/0/4976/3317/180/0/95/0/ba68835_lVpl7_f413HdX7LELA8TL5Rc.jpg', 'https://img.lemde.fr/2019/11/22/320/0/1920/1280/180/0/95/0/fdebc95_j4qj8aRAljacKTbWMigzpApr.jpg', 'https://img.lemde.fr/2019/11/27/2/0/6000/4000/180/0/95/0/e1882d4_5117215-01-06.jpg', 'https://img.lemde.fr/2019/11/26/91/0/3800/1900/1440/720/60/0/4ad57f8_B7CXfiJyHg2BU-m-Kef7o2as.JPG', 'https://www.facebook.com/tr?id=122349388153507&ev=PageView&noscript=1', 'https://img.lemde.fr/2019/11/27/0/0/1600/1066/180/0/95/0/de2613e_ENkCtvybbqlGnVenBXX44hJ8.jpg', 'https://img.lemde.fr/2019/11/27/0/0/6025/2200/1920/0/60/0/16d30d0_D4ql_g7OR59d2Li9aPSiWilu.jpg', 'https://img.lemde.fr/2019/11/20/0/1/1918/1279/180/0/95/0/b4e349e_2019112345.0.2381812787scorcese_deniro_7_web.jpg', 'https://img.lemde.fr/2018/12/06/80/0/3595/2395/180/0/95/0/bc83d03_b4nCl_z508Q-hXLJxgstdP22.jpg', 'https://img.lemde.fr/2019/11/27/0/0/5389/3592/180/0/95/0/c9584d2_kIauqh6TbIpxzR0wkS_tPleB.jpg', 'https://www.google-analytics.com/collect?v=1&t=pageview&tid=UA-15394037-2&dl=https%3A%2F%2Fwww.lemonde.fr%2Finternational%2Farticle%2F2019%2F11%2F27%2Fla-place-tahrir-le-c-ur-battant-de-la-contestation-a-bagdad_6020653_3210.html&dt=Le+Monde.fr+-+Actualit%C3%A9s+et+Infos+en+France+et+dans+le+monde', 'https://img.lemde.fr/2019/11/25/1/1/1186/790/180/0/95/0/240be83_n6rZKZbG12LAEsHBe8acZCSY.jpg', 'https://img.lemde.fr/2019/11/26/0/0/5400/3600/180/0/95/0/2a5cb36_9b98fcebddd2464ba9e1ae3689f376c6-9b98fcebddd2464ba9e1ae3689f376c6-0.jpg', 'https://img.lemde.fr/2019/11/20/98/0/1476/984/180/0/95/0/22fe697_2019112345.0.2384080473affaire_1_web.jpg', 'https://img.lemde.fr/2019/11/27/0/0/4252/2834/180/0/95/0/ea27992_sk4iCXC8L0REUPO8w_gIAt7v.jpg', 'https://img.lemde.fr/2019/03/29/22/0/1800/1200/180/0/95/0/66c2c85_T0UieiaXjdGy1X1Ow-QqQ0e8.jpg', 'https://img.lemde.fr/2017/07/20/1/0/1800/1200/180/0/95/0/79d32c1_18633-ia2cig.0cgy88semi.jpg', 'https://img.lemde.fr/2019/09/25/0/0/3648/2432/180/0/95/0/43a1b7a_5692094-01-07.jpg', 'https://img.lemde.fr/2017/06/05/0/133/1410/940/180/0/95/0/e911bbb_21592-1y5iz47.r2rcu15rk9.png', 'https://img.lemde.fr/2019/11/26/91/0/3800/1900/1440/0/60/0/4ad57f8_B7CXfiJyHg2BU-m-Kef7o2as.JPG', 'https://img.lemde.fr/2019/11/27/0/0/5176/3451/180/0/95/0/bf89271_YvRCpXgMavHJZ_XpNECRSIvO.jpg', 'https://img.lemde.fr/2019/11/25/0/0/5749/3833/180/0/95/0/6502c6a_H60CL4wpPGRanIF9SgNxUyL7.jpg', 'https://img.lemde.fr/2019/11/19/0/0/1500/1000/180/0/95/0/fcf9c6d_4DM_Ken9zR_Hw57Z4sFAC0oP.jpg']\n",
      "[]\n",
      "['en', 'et', 'cœur', 'la', 'à', 'bagdad', 'des', 'place', 'les', 'du', 'que', 'le', 'tahrir', 'contestation', 'battant']\n",
      "['']\n",
      "[]\n",
      "['Philippe Escande', 'Tom Chevalier', 'Politiste', 'Chercheur Cnrs Au Laboratoire Arènes', 'Sandrine Cabut', 'Hélène Sallon']\n",
      "2019-11-27 00:00:00\n",
      "Du sommet du « restaurant turc », une tour désaffectée qui abritait autrefois un centre commercial et un restaurant panoramique, le jeune homme domine la place Tahrir, le cœur battant de la contestation à Bagdad.\n",
      "Les occupants du « restaurant turc », un immeuble abandonné de dix-huit étages surplombant la place Tahrir, le 15 novembre.\n",
      "LAURENT VAN DER STOCKT POUR « LE MONDE »Depuis, la « montagne d’Uhud » est la place forte des opposants.\n",
      "Sans la « montagne d’Uhud », il en irait de la survie de la « cité idéale » qu’ils ont façonnée à ses pieds.\n",
      "Devant le monument de la liberté, qui célèbre la révolution de 1958 des « officiers libres » contre la monarchie, sur le terre-plein central et dans les allées voisines de la vaste place Tahrir, coupée de la circulation, des tentes ont fleuri.\n",
      "Au cœur de la capitale irakienne, la place Tahrir et l’immeuble qui la domine sont depuis des semaines l’épicentre d’une révolte révélatrice de l’état du pays.\n",
      "fr\n",
      "/dist/assets/img/logos/favicon.ico\n",
      "https://www.lemonde.fr/international/article/2019/11/27/la-place-tahrir-le-c-ur-battant-de-la-contestation-a-bagdad_6020653_3210.html\n",
      "{}\n"
     ]
    }
   ],
   "source": [
    "import newspaper\n",
    "a = newspaper.Article('https://www.lemonde.fr/international/article/2019/11/27/la-place-tahrir-le-c-ur-battant-de-la-contestation-a-bagdad_6020653_3210.html')\n",
    "a.download()\n",
    "a.parse()\n",
    "a.nlp()\n",
    "print(a.text)\n",
    "\n",
    "print(a.url)\n",
    "print(a.text)\n",
    "print(a.title)\n",
    "print(a.top_img)\n",
    "print(a.meta_img)\n",
    "print(list(a.imgs))\n",
    "print(list(a.movies))\n",
    "print(list(a.keywords))\n",
    "print(list(a.meta_keywords))\n",
    "print(list(a.tags))\n",
    "print(list(a.authors))\n",
    "print(a.publish_date)\n",
    "print(a.summary)\n",
    "print(a.meta_description)\n",
    "print(a.meta_lang)\n",
    "print(a.meta_favicon)\n",
    "print(a.canonical_link)\n",
    "print(a.additional_data)"
   ]
  },
  {
   "cell_type": "code",
   "execution_count": 11,
   "metadata": {},
   "outputs": [
    {
     "name": "stdout",
     "output_type": "stream",
     "text": [
      "['en', 'et', 'cœur', 'la', 'à', 'bagdad', 'des', 'place', 'les', 'du', 'que', 'le', 'tahrir', 'contestation', 'battant']\n"
     ]
    }
   ],
   "source": [
    "print(a.keywords)"
   ]
  },
  {
   "cell_type": "code",
   "execution_count": 7,
   "metadata": {},
   "outputs": [
    {
     "data": {
      "text/plain": [
       "549"
      ]
     },
     "execution_count": 7,
     "metadata": {},
     "output_type": "execute_result"
    }
   ],
   "source": [
    "import spacy\n",
    "import fr_core_news_sm\n",
    "nlp = fr_core_news_sm.load()\n",
    "doc = nlp(a.text)\n",
    "len(doc)"
   ]
  },
  {
   "cell_type": "code",
   "execution_count": 17,
   "metadata": {},
   "outputs": [
    {
     "name": "stdout",
     "output_type": "stream",
     "text": [
      "['un', 'drapeau', 'irakien', 'sur', 'les', 'épaules', ',', 'un', 'porte-étendard', 'agite', 'le', 'blason', 'de', 'l’', 'imam', 'chiite', 'hussein', ',', 'imprimé', 'en', 'lettres', 'dorées', 'sur', 'fond', 'noir', '.', 'du', 'sommet', 'du', '«', 'restaurant', 'turc', '»', ',', 'une', 'tour', 'désaffectée', 'qui', 'abritait', 'autrefois', 'un', 'centre', 'commercial', 'et', 'un', 'restaurant', 'panoramique', ',', 'le', 'jeune', 'homme', 'domine', 'la', 'place', 'tahrir', ',', 'le', 'cœur', 'battant', 'de', 'la', 'contestation', 'à', 'bagdad', '.', 'dans', 'son', 'dos', 'se', 'trouvent', 'les', 'barricades', 'du', 'pont', 'al', '-', 'joumhouria', ',', 'la', 'voie', 'd’', 'accès', 'à', 'la', 'zone', 'verte', ',', 'le', 'secteur', 'du', 'pouvoir', ',', 'confiné', 'derrière', 'des', 'murs', 'de', 'béton', 'et', 'des', 'rangées', 'd’', 'hommes', 'en', 'armes', '.', '\\n\\n', 'il', 'n’', 'y', 'a', 'pas', 'meilleur', 'endroit', 'que', 'cette', 'carcasse', 'de', 'béton', ',', 'laissée', 'à', 'l’', 'abandon', 'après', 'un', 'bombardement', 'en', '2003', 'et', 'désormais', 'couverte', 'de', 'banderoles', 'de', 'revendications', ',', 'de', 'caricatures', 'politiques', 'et', 'de', 'photos', 'de', '«', 'martyrs', '»', ',', 'pour', 'prendre', 'le', 'pouls', 'de', 'la', 'mobilisation', '.', '\\n\\n', '«', 'dégagez', '!', '»', '\\n\\n', 'quelques', 'centaines', ',', 'bientôt', 'des', 'milliers', 'de', 'manifestants', 'se', 'massent', 'sur', 'la', 'place', 'jusqu’', 'à', 'la', 'nuit', 'tombée', 'quand', 's’', 'illuminent', ',', 'au', 'fronton', 'de', 'l’', 'immeuble', 'de', 'dix-huit', 'étages', ',', 'd’', 'immenses', 'lettres', 'fluorescentes', 'composant', 'les', 'mots', '«', 'dégagez', '!', '»', 'et', '«', 'montagne', 'd’', 'uhud', '»', '.', 'c’', 'est', 'ainsi', ',', 'en', 'référence', 'à', 'l’', 'une', 'des', 'batailles', 'du', 'prophète', 'mahomet', ',', 'que', 'les', 'occupants', 'de', 'ce', 'bâtiment', 'stratégique', 'l’', 'ont', 'rebaptisé', 'depuis', 'qu’', 'ils', 'en', 'ont', 'pris', 'le', 'contrôle', ',', 'le', '24', 'octobre', 'au', 'soir', ',', 'à', 'la', 'veille', 'd’', 'une', 'manifestation', 'contre', 'le', 'pouvoir', '.', 'ils', 's’', 'y', 'sont', 'installés', 'avant', 'que', 'ne', 'puissent', 'le', 'faire', 'les', 'forces', 'antiémeute', 'ou', 'd’', 'éventuels', 'snipers', ',', 'responsables', 'de', 'tant', 'de', 'morts', 'lors', 'de', 'la', 'première', 'semaine', 'de', 'mobilisation', ',', 'début', 'octobre', '.', '\\n\\n', 'les', 'occupants', 'du', '«', 'restaurant', 'turc', '»', ',', 'un', 'immeuble', 'abandonné', 'de', 'dix-huit', 'étages', 'surplombant', 'la', 'place', 'tahrir', ',', 'le', '15', 'novembre', '.', 'laurent', 'van', 'der', 'stockt', 'pour', '«', 'le', 'monde', '»', '\\n\\n', 'depuis', ',', 'la', '«', 'montagne', 'd’', 'uhud', '»', 'est', 'la', 'place', 'forte', 'des', 'opposants', '.', '«', 'ils', 'nous', 'attaquent', 'parfois', 'avec', 'des', 'grenades', 'lacrymogènes', 'et', 'des', 'bombes', 'assourdissantes', 'pour', 'nous', 'effrayer', '.', 'on', 'tient', 'bon', ':', 'si', 'on', 'perd', 'l’', 'immeuble', ',', 'c’', 'est', 'la', 'fin', 'de', 'la', 'bataille', '»', ',', 'clame', 'hassan', ',', 'un', 'jeune', 'diplômé', 'de', 'psychologie', ',', 'actuellement', 'au', 'chômage', ',', 'venu', 'de', 'la', 'ville', 'd’', 'hilla', ',', 'dans', 'le', 'centre', 'du', 'pays', ',', 'pour', '«', 'faire', 'le', 'siège', 'du', 'gouvernement', '»', '.', '\\n\\n', 'sans', 'la', '«', 'montagne', 'd’', 'uhud', '»', ',', 'il', 'en', 'irait', 'de', 'la', 'survie', 'de', 'la', '«', 'cité', 'idéale', '»', 'qu’', 'ils', 'ont', 'façonnée', 'à', 'ses', 'pieds', '.', 'devant', 'le', 'monument', 'de', 'la', 'liberté', ',', 'qui', 'célèbre', 'la', 'révolution', 'de', '1958', 'des', '«', 'officiers', 'libres', '»', 'contre', 'la', 'monarchie', ',', 'sur', 'le', 'terre', '-', 'plein', 'central', 'et', 'dans', 'les', 'allées', 'voisines', 'de', 'la', 'vaste', 'place', 'tahrir', ',', 'coupée', 'de', 'la', 'circulation', ',', 'des', 'tentes', 'ont', 'fleuri', '.', '«', 'ici', ',', 'poursuit', 'hassan', ',', 'tout', 'est', 'beaucoup', 'mieux', 'que', 'tout', 'ce', 'que', 'le', 'gouvernement', 'n’', 'a', 'jamais', 'fait', 'en', 'seize', 'ans', '»', ',', 'depuis', 'l’', 'invasion', 'américaine', 'de', '2003', ',', 'fatale', 'au', 'dictateur', 'saddam', 'hussein', '.', 'ils', 'ont', 'même', 'installé', 'l’', 'électricité', 'dans', 'le', '«', 'restaurant', 'turc', '»', 'et', 'repeint', 'ses', 'murs', '.']\n"
     ]
    }
   ],
   "source": [
    "words1 = [str(token.text).lower() for token in doc]\n",
    "print(words1)"
   ]
  },
  {
   "cell_type": "code",
   "execution_count": 18,
   "metadata": {},
   "outputs": [
    {
     "name": "stdout",
     "output_type": "stream",
     "text": [
      "['drapeau', 'irakien', 'épaules', 'agite', 'blason', 'imam', 'chiite', 'hussein', 'imprimé', 'lettres', 'dorées', 'fond', 'noir', 'sommet', 'restaurant', 'turc', 'tour', 'désaffectée', 'abritait', 'centre', 'commercial', 'restaurant', 'panoramique', 'jeune', 'homme', 'domine', 'place', 'tahrir', 'cœur', 'battant', 'contestation', 'bagdad', 'dos', 'trouvent', 'barricades', 'pont', 'al', 'joumhouria', 'voie', 'accès', 'zone', 'verte', 'secteur', 'pouvoir', 'confiné', 'murs', 'béton', 'rangées', 'hommes', 'armes', 'y', 'meilleur', 'endroit', 'carcasse', 'béton', 'laissée', 'abandon', 'bombardement', 'couverte', 'banderoles', 'revendications', 'caricatures', 'politiques', 'photos', 'martyrs', 'prendre', 'pouls', 'mobilisation', 'dégagez', 'centaines', 'bientôt', 'milliers', 'manifestants', 'massent', 'place', 'nuit', 'tombée', 'illuminent', 'fronton', 'immeuble', 'étages', 'immenses', 'lettres', 'fluorescentes', 'composant', 'mots', 'dégagez', 'montagne', 'uhud', 'référence', 'batailles', 'prophète', 'mahomet', 'occupants', 'bâtiment', 'stratégique', 'rebaptisé', 'pris', 'contrôle', 'octobre', 'soir', 'veille', 'manifestation', 'pouvoir', 'y', 'installés', 'puissent', 'faire', 'forces', 'antiémeute', 'éventuels', 'snipers', 'responsables', 'morts', 'semaine', 'mobilisation', 'début', 'octobre', 'occupants', 'restaurant', 'turc', 'immeuble', 'abandonné', 'étages', 'surplombant', 'place', 'tahrir', 'novembre', 'laurent', 'van', 'der', 'stockt', 'monde', 'montagne', 'uhud', 'place', 'forte', 'opposants', 'attaquent', 'grenades', 'lacrymogènes', 'bombes', 'assourdissantes', 'effrayer', 'tient', 'bon', 'perd', 'immeuble', 'fin', 'bataille', 'clame', 'hassan', 'jeune', 'diplômé', 'psychologie', 'actuellement', 'chômage', 'venu', 'ville', 'hilla', 'centre', 'pays', 'faire', 'siège', 'gouvernement', 'montagne', 'uhud', 'irait', 'survie', 'cité', 'idéale', 'façonnée', 'pieds', 'monument', 'liberté', 'célèbre', 'révolution', 'officiers', 'libres', 'monarchie', 'terre', 'central', 'allées', 'voisines', 'vaste', 'place', 'tahrir', 'coupée', 'circulation', 'tentes', 'fleuri', 'ici', 'poursuit', 'hassan', 'mieux', 'gouvernement', 'jamais', 'ans', 'invasion', 'américaine', 'fatale', 'dictateur', 'saddam', 'hussein', 'installé', 'électricité', 'restaurant', 'turc', 'repeint', 'murs']\n"
     ]
    }
   ],
   "source": [
    "words2 = [str(token.text).lower() for token in doc if not token.is_stop and token.is_alpha]\n",
    "print(words2)"
   ]
  },
  {
   "cell_type": "code",
   "execution_count": 19,
   "metadata": {},
   "outputs": [
    {
     "name": "stdout",
     "output_type": "stream",
     "text": [
      "['drapeau', 'irakien', 'épaule', 'agite', 'blason', 'imam', 'chiite', 'hussein', 'imprimer', 'lettre', 'dorer', 'fond', 'noir', 'sommet', 'restaurer', 'turc', 'tour', 'désaffecter', 'abriter', 'centre', 'commercial', 'restaurant', 'panoramique', 'jeune', 'homme', 'domine', 'place', 'tahrir', 'cœur', 'battre', 'contestation', 'bagdad', 'dos', 'trouver', 'barricade', 'pont', 'al', 'joumhouria', 'voie', 'accès', 'zone', 'vert', 'secteur', 'pouvoir', 'confiner', 'mur', 'béton', 'rangée', 'homme', 'arme', 'y', 'meilleur', 'endroit', 'carcasse', 'béton', 'laisser', 'abandon', 'bombardement', 'couvrir', 'banderole', 'revendication', 'caricature', 'politique', 'photo', 'martyrs', 'prendre', 'pouls', 'mobilisation', 'dégagez', 'centaine', 'bientôt', 'millier', 'manifestant', 'masser', 'place', 'nuit', 'tombée', 'illuminent', 'fronton', 'immeuble', 'étages', 'immense', 'lettre', 'fluorescent', 'composer', 'mot', 'dégagez', 'montagn', 'uhud', 'référence', 'bataille', 'prophète', 'mahomet', 'occupant', 'bâtiment', 'stratégique', 'rebaptiser', 'prendre', 'contrôle', 'octobre', 'soir', 'veille', 'manifestation', 'pouvoir', 'y', 'installer', 'pouvoir', 'faire', 'force', 'antiémeute', 'éventuel', 'sniper', 'responsable', 'mort', 'semaine', 'mobilisation', 'début', 'octobre', 'occupant', 'restaurer', 'turc', 'immeuble', 'abandonner', 'étage', 'surplomber', 'place', 'tahrir', 'novembre', 'laurent', 'van', 'der', 'stockt', 'monde', 'montagn', 'uhud', 'place', 'fort', 'opposant', 'attaquer', 'grenade', 'lacrymogène', 'bombe', 'assourdissant', 'effrayer', 'tient', 'bon', 'perdre', 'immeuble', 'fin', 'bataille', 'clame', 'hassan', 'jeune', 'diplômé', 'psychologie', 'actuellement', 'chômage', 'venir', 'ville', 'hilla', 'centre', 'pays', 'faire', 'siège', 'gouvernement', 'montagn', 'uhud', 'aller', 'survie', 'cité', 'idéal', 'façonner', 'pied', 'monument', 'liberté', 'célébrer', 'révolution', 'officier', 'libre', 'monarchie', 'terre', 'central', 'allée', 'voisin', 'vaste', 'place', 'tahrir', 'coupée', 'circulation', 'tente', 'fleurir', 'ici', 'poursuivre', 'hassan', 'mieux', 'gouvernement', 'jamais', 'an', 'invasion', 'américain', 'fatal', 'dictateur', 'saddam', 'hussein', 'installer', 'électricité', 'restaurer', 'turc', 'repeindre', 'mur']\n"
     ]
    }
   ],
   "source": [
    "words3 = [str(token.lemma_).lower() for token in doc if not token.is_stop and token.is_alpha]\n",
    "print(words3)"
   ]
  },
  {
   "cell_type": "code",
   "execution_count": 21,
   "metadata": {},
   "outputs": [
    {
     "name": "stdout",
     "output_type": "stream",
     "text": [
      "[(',', 39), ('de', 29), ('la', 23), ('le', 17), ('.', 15), ('«', 15), ('»', 15), ('d’', 9), ('des', 9), ('l’', 8), ('du', 8), ('et', 8), ('un', 7), ('les', 7), ('en', 7)]\n",
      "\n",
      "[('place', 5), ('restaurant', 4), ('turc', 3), ('tahrir', 3), ('immeuble', 3), ('montagne', 3), ('uhud', 3), ('hussein', 2), ('lettres', 2), ('centre', 2), ('jeune', 2), ('pouvoir', 2), ('murs', 2), ('béton', 2), ('y', 2)]\n",
      "\n",
      "[('place', 5), ('restaurer', 3), ('turc', 3), ('tahrir', 3), ('pouvoir', 3), ('immeuble', 3), ('montagn', 3), ('uhud', 3), ('hussein', 2), ('lettre', 2), ('centre', 2), ('jeune', 2), ('homme', 2), ('mur', 2), ('béton', 2)]\n"
     ]
    }
   ],
   "source": [
    "from collections import Counter\n",
    "word_freq1 = Counter(words1)\n",
    "word_freq2 = Counter(words2)\n",
    "word_freq3 = Counter(words3)\n",
    "\n",
    "common_words1 = word_freq1.most_common(15)\n",
    "common_words2 = word_freq2.most_common(15)\n",
    "common_words3 = word_freq3.most_common(15)\n",
    "\n",
    "print(common_words1)\n",
    "print('')\n",
    "print(common_words2)\n",
    "print('')\n",
    "print(common_words3)"
   ]
  },
  {
   "cell_type": "code",
   "execution_count": 40,
   "metadata": {},
   "outputs": [
    {
     "name": "stdout",
     "output_type": "stream",
     "text": [
      "[('Hussein', 'PER'),\n",
      " ('»', 'PER'),\n",
      " ('Tahrir', 'PER'),\n",
      " ('Bagdad', 'LOC'),\n",
      " ('pont Al', 'LOC'),\n",
      " ('»', 'LOC'),\n",
      " ('s’', 'MISC'),\n",
      " ('Dégagez !', 'MISC'),\n",
      " ('Uhud »', 'ORG'),\n",
      " ('C’', 'MISC'),\n",
      " ('Mahomet', 'PER'),\n",
      " ('»', 'PER'),\n",
      " ('Tahrir', 'PER'),\n",
      " ('LAURENT VAN DER STOCKT POUR « LE MONDE »\\n\\n', 'MISC'),\n",
      " ('Uhud »', 'LOC'),\n",
      " ('bataille »', 'MISC'),\n",
      " ('Hassan', 'PER'),\n",
      " ('Hilla', 'LOC'),\n",
      " ('Uhud »', 'ORG'),\n",
      " ('Tahrir', 'PER'),\n",
      " ('Ici', 'PER'),\n",
      " ('Hassan', 'PER'),\n",
      " ('»', 'LOC'),\n",
      " ('Saddam Hussein', 'PER'),\n",
      " ('»', 'PER')]\n"
     ]
    }
   ],
   "source": [
    "import pprint\n",
    "entities = [(ent.text, ent.label_) for ent in doc.ents]\n",
    "pprint.pprint(entities)"
   ]
  },
  {
   "cell_type": "code",
   "execution_count": 37,
   "metadata": {},
   "outputs": [
    {
     "name": "stdout",
     "output_type": "stream",
     "text": [
      "['Un drapeau irakien sur les épaules, un porte-étendard agite le blason de '\n",
      " 'l’imam',\n",
      " 'chiite Hussein, imprimé en lettres dorées sur fond noir.',\n",
      " 'Du sommet du « restaurant turc », une tour désaffectée qui abritait '\n",
      " 'autrefois un centre commercial et un restaurant panoramique, le jeune homme '\n",
      " 'domine la place Tahrir, le cœur battant de la contestation à Bagdad.',\n",
      " 'Dans son dos se trouvent les barricades du pont Al',\n",
      " '-Joumhouria, la voie d’accès à la zone verte, le secteur du pouvoir, confiné '\n",
      " 'derrière des murs de béton et des rangées d’hommes en armes.\\n'\n",
      " '\\n']\n"
     ]
    }
   ],
   "source": [
    "sentances = [sent.text for sent in doc.sents]\n",
    "pprint.pprint(sentances[0:5])"
   ]
  },
  {
   "cell_type": "code",
   "execution_count": 39,
   "metadata": {},
   "outputs": [
    {
     "name": "stdout",
     "output_type": "stream",
     "text": [
      "['Un drapeau irakien sur les épaules',\n",
      " 'un porte-étendard',\n",
      " 'le blason de l’',\n",
      " 'chiite Hussein',\n",
      " 'Du sommet du « restaurant turc », une tour désaffectée qui abritait '\n",
      " 'autrefois un centre commercial et un restaurant panoramique, le jeune homme '\n",
      " 'domine la place Tahrir, le cœur battant de la contestation à Bagdad.',\n",
      " 'Dans son dos',\n",
      " 'les barricades',\n",
      " 'du pont Al']\n"
     ]
    }
   ],
   "source": [
    "noun_phrases = [chunk.text for chunk in doc.noun_chunks]\n",
    "pprint.pprint(noun_phrases[0:8])"
   ]
  }
 ],
 "metadata": {
  "kernelspec": {
   "display_name": "Python 3",
   "language": "python",
   "name": "python3"
  },
  "language_info": {
   "codemirror_mode": {
    "name": "ipython",
    "version": 3
   },
   "file_extension": ".py",
   "mimetype": "text/x-python",
   "name": "python",
   "nbconvert_exporter": "python",
   "pygments_lexer": "ipython3",
   "version": "3.7.4"
  }
 },
 "nbformat": 4,
 "nbformat_minor": 2
}
